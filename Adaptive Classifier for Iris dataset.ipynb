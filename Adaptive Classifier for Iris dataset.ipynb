{
 "cells": [
  {
   "cell_type": "code",
   "execution_count": 11,
   "metadata": {},
   "outputs": [
    {
     "name": "stdout",
     "output_type": "stream",
     "text": [
      "Predicted weights are:  [-0.11107993220814665, -0.010717882177912004, 0.31665098458586044, 0.4091715589708838]\n"
     ]
    },
    {
     "data": {
      "image/png": "[encoded data removed]",
      "text/plain": [
       "<Figure size 432x288 with 1 Axes>"
      ]
     },
     "metadata": {},
     "output_type": "display_data"
    }
   ],
   "source": [
    "import numpy as np\n",
    "from operator import add\n",
    "from sklearn import datasets\n",
    "import matplotlib.pyplot as plt\n",
    "\n",
    "#---------------------- Initialization --------------------------\n",
    "# Initializing random input from (-0.5, 0.5)\n",
    "iris = datasets.load_iris()\n",
    "X = iris.data\n",
    "output = iris.target\n",
    "num_iterations = 1000\n",
    "mu = 0.01\n",
    "# Initializing random weights between (0, 1)\n",
    "predicted_weights = np.zeros(len(X[0]))\n",
    "errors = []\n",
    "\n",
    "#---------------------- LMS Algorithm ---------------------------\n",
    "for index in range(0, num_iterations):\n",
    "    weights = []\n",
    "    for j in range(index, index + len(output)):\n",
    "        x = X[j % len(output)]\n",
    "        actual_output = output[j % len(output)]\n",
    "        predicted_output = sum(i[0] * i[1] for i in zip(x, predicted_weights))\n",
    "\n",
    "        d = np.sum(actual_output)\n",
    "        e = np.sum(predicted_output)        \n",
    "\n",
    "        x = [2.0 * i * mu * (d - e) for i in x]\n",
    "        \n",
    "        weights.append(x)\n",
    "    errors.append(np.sum(np.array(weights).mean(axis=0)))\n",
    "    predicted_weights = list(map(add, predicted_weights, np.array(weights).mean(axis=0)))    \n",
    "\n",
    "plt.plot(errors)\n",
    "plt.xlabel('# iterations', fontsize=14, color='black')\n",
    "plt.ylabel('Error', fontsize=14, color='black')\n",
    "\n",
    "print(\"Predicted weights are: \", predicted_weights)"
   ]
  },
  {
   "cell_type": "code",
   "execution_count": 19,
   "metadata": {},
   "outputs": [
    {
     "name": "stdout",
     "output_type": "stream",
     "text": [
      "[[129891.      0.      0.      0.]\n",
      " [     0. 129891.      0.      0.]\n",
      " [     0.      0. 129891.      0.]\n",
      " [     0.      0.      0. 129891.]]\n",
      "Predicted weights are:  [[-0.09303476]\n",
      " [-0.03168982]\n",
      " [ 0.32076897]\n",
      " [ 0.3611119 ]]\n"
     ]
    },
    {
     "data": {
      "image/png": "[encoded data removed]",
      "text/plain": [
       "<Figure size 432x288 with 1 Axes>"
      ]
     },
     "metadata": {},
     "output_type": "display_data"
    }
   ],
   "source": [
    "import numpy as np\n",
    "from operator import sub\n",
    "import matplotlib.pyplot as plt\n",
    "\n",
    "#---------------------- Initialization --------------------------\n",
    "# Initializing random input from (-0.5, 0.5)\n",
    "iris = datasets.load_iris()\n",
    "X = iris.data\n",
    "output = iris.target\n",
    "num_iterations = 1000\n",
    "# Initializing random weights between (0, 1)\n",
    "predicted_weights = np.matrix(np.zeros(len(X[0])))\n",
    "predicted_weights = predicted_weights.transpose()\n",
    "errors = []\n",
    "eta = 129891\n",
    "R_k_inverse = eta * np.identity(len(X[0]))\n",
    "\n",
    "print(R_k_inverse)\n",
    "\n",
    "#---------------------- RLS Algorithm ---------------------------\n",
    "for index in range(0, num_iterations):\n",
    "    weights = []\n",
    "    for j in range(index, index + len(output)):\n",
    "        x = np.matrix(X[(j) % len(output)])\n",
    "        x = x.transpose()\n",
    "        actual_output = output[(j) % len(output)]\n",
    "#         print(x.shape, predicted_weights.shape)\n",
    "        predicted_output = predicted_weights.transpose() * x\n",
    "\n",
    "        error = actual_output - predicted_output    \n",
    "\n",
    "        Z_k = R_k_inverse * x\n",
    "\n",
    "        q = x.transpose() * Z_k\n",
    "\n",
    "        v = 1 / (1 + q)\n",
    "\n",
    "        Z_k_cap = np.multiply(v,  Z_k)\n",
    "        \n",
    "        weights.append(np.multiply(error, Z_k_cap))\n",
    "            \n",
    "        R_k_inverse = R_k_inverse - Z_k_cap * Z_k_cap.transpose() \n",
    "    errors.append(np.sum(np.array(weights).mean(axis=0)))\n",
    "#     print(np.array(weights).mean(axis=0).shape, predicted_weights.shape)\n",
    "    predicted_weights = predicted_weights + np.array(weights).mean(axis=0)\n",
    "\n",
    "plt.plot(errors)\n",
    "plt.xlabel('# iterations', fontsize=14, color='black')\n",
    "plt.ylabel('Error', fontsize=14, color='black')\n",
    "\n",
    "print(\"Predicted weights are: \", predicted_weights)"
   ]
  },
  {
   "cell_type": "code",
   "execution_count": null,
   "metadata": {},
   "outputs": [],
   "source": []
  }
 ],
 "metadata": {
  "kernelspec": {
   "display_name": "Python 3",
   "language": "python",
   "name": "python3"
  },
  "language_info": {
   "codemirror_mode": {
    "name": "ipython",
    "version": 3
   },
   "file_extension": ".py",
   "mimetype": "text/x-python",
   "name": "python",
   "nbconvert_exporter": "python",
   "pygments_lexer": "ipython3",
   "version": "3.6.2"
  }
 },
 "nbformat": 4,
 "nbformat_minor": 2
}
