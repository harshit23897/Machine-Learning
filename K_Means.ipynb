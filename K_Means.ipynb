{
  "nbformat": 4,
  "nbformat_minor": 0,
  "metadata": {
    "colab": {
      "name": "1_a.ipynb",
      "version": "0.3.2",
      "provenance": [],
      "collapsed_sections": []
    },
    "kernelspec": {
      "name": "python3",
      "display_name": "Python 3"
    }
  },
  "cells": [
    {
      "metadata": {
        "id": "M3tZoCIbq081",
        "colab_type": "text"
      },
      "cell_type": "markdown",
      "source": [
        "# K-Means Clustering for Iris Data Set.\n",
        "Taking K (number of clusters) = 3 for clustering data.\n",
        "\n",
        "Steps for K-Means Algorithm:\n",
        "\n",
        "\n",
        "1.   Randomly initialize cluster centers.\n",
        "2.   Find euclidean distance of each point from each cluster center and put that point in closest (according to euclidean distance) cluster.\n",
        "3.   Update cluster centers.\n",
        "4.   If cluster centers are not same as in previous iteration then repeat from step 2.\n",
        "5.   Else the current cluster centers are the final answer.\n",
        "\n"
      ]
    },
    {
      "metadata": {
        "id": "VJ8dKioFqhZw",
        "colab_type": "code",
        "colab": {}
      },
      "cell_type": "code",
      "source": [
        "import math \n",
        "import random\n",
        "from sklearn import datasets # For iris dataset.\n",
        "from sklearn.cluster import KMeans # For Trained KMeans Classifier to compare with our classifier."
      ],
      "execution_count": 0,
      "outputs": []
    },
    {
      "metadata": {
        "id": "jNHS6K4_rCTB",
        "colab_type": "code",
        "colab": {}
      },
      "cell_type": "code",
      "source": [
        "# load iris dataset\n",
        "iris = datasets.load_iris()\n",
        "\n",
        "# Maximum number of iterations of algorithm.\n",
        "num_iterations = 1000"
      ],
      "execution_count": 0,
      "outputs": []
    },
    {
      "metadata": {
        "id": "6qF1VZxMr-Gq",
        "colab_type": "code",
        "colab": {}
      },
      "cell_type": "code",
      "source": [
        "# Storing cluster centers.\n",
        "centers = []\n",
        "\n",
        "# Storing cluster data.\n",
        "cluster_number = [0] * len(iris.data)"
      ],
      "execution_count": 0,
      "outputs": []
    },
    {
      "metadata": {
        "id": "N-rEOXNksZsD",
        "colab_type": "code",
        "colab": {}
      },
      "cell_type": "code",
      "source": [
        "# Randomly initializing centers of the clusters.\n",
        "def initialize():\n",
        "\tfor i in range(0, 3):\n",
        "    # Since index starts from 0 in python, hence generating a random index from 0 to 149\n",
        "\t\tindex = random.randint(0, 149)\n",
        "\t\tcenters.append(iris['data'][index])\t\t\t\n",
        "\n",
        "initialize()"
      ],
      "execution_count": 0,
      "outputs": []
    },
    {
      "metadata": {
        "id": "6X8KevhVsaOV",
        "colab_type": "code",
        "colab": {}
      },
      "cell_type": "code",
      "source": [
        "# Finding euclidean distance between points.\n",
        "def euclidean_distance(data, centers):\n",
        "\treturn math.sqrt((data[0] - centers[0]) ** 2 \n",
        "                   + (data[1] - centers[1]) ** 2 \n",
        "                   + (data[2] - centers[2]) ** 2 \n",
        "                   + (data[3] - centers[3]) ** 2)"
      ],
      "execution_count": 0,
      "outputs": []
    },
    {
      "metadata": {
        "id": "0IEEYw7csfDM",
        "colab_type": "code",
        "colab": {}
      },
      "cell_type": "code",
      "source": [
        "# Updating cluster centers to the average of all data points in that cluster.\n",
        "def update_cluster_centers():\n",
        "\tsum = [[0, 0, 0, 0], [0, 0, 0, 0], [0, 0, 0, 0]]\n",
        "\tcount = [0, 0, 0]\n",
        "\tfor index in range(0, len(iris.data)):\n",
        "\t\tfor j in range(0, 4):\n",
        "\t\t\tsum[cluster_number[index]][j] += iris['data'][index][j]\n",
        "\t\tcount[cluster_number[index]] += 1\n",
        "\tfor i in range(0, 3):\n",
        "\t\tfor j in range(0, 4):\n",
        "\t\t\tif count[i] != 0:\n",
        "\t\t\t\tsum[i][j] /= count[i]\n",
        "\tcenters.clear()\n",
        "\tfor i in range(0, 3):\n",
        "\t\tcenters.append(sum[i])"
      ],
      "execution_count": 0,
      "outputs": []
    },
    {
      "metadata": {
        "id": "4ROhuvnPsivt",
        "colab_type": "code",
        "colab": {}
      },
      "cell_type": "code",
      "source": [
        "# Check if two cluster centers are equal.\n",
        "def check_equal(previous_centers, centers):\n",
        "\tfor i in range(0, 3):\n",
        "\t\tfor j in range(0, 4):\n",
        "\t\t\tif(centers[i][j] != previous_centers[i][j]):\n",
        "\t\t\t\treturn False\n",
        "\treturn True"
      ],
      "execution_count": 0,
      "outputs": []
    },
    {
      "metadata": {
        "id": "mSAAqzQjskD3",
        "colab_type": "code",
        "colab": {}
      },
      "cell_type": "code",
      "source": [
        "# Until the cluster centers are same do clustering.  \n",
        "for iteration in range(num_iterations):\n",
        "\tcluster_number = [0] * len(iris.data)\n",
        "\tprevious_centers = []\n",
        "\tprevious_centers = centers.copy()\n",
        "\tfor index in range(0, len(iris.data)):\n",
        "\t\tdistance = []\n",
        "\t\tfor i in range(0, len(centers)):\n",
        "\t\t\tdistance.append(euclidean_distance(iris['data'][index], centers[i]))\n",
        "\t\tcluster_number[index] = distance.index(min(distance))\n",
        "\tupdate_cluster_centers()\n",
        "\tif check_equal(previous_centers, centers):\n",
        "\t\tbreak"
      ],
      "execution_count": 0,
      "outputs": []
    },
    {
      "metadata": {
        "id": "Zc59960oslYt",
        "colab_type": "code",
        "colab": {}
      },
      "cell_type": "code",
      "source": [
        "# Function to print number of data points in each cluster. \n",
        "def print_count(a, b):\n",
        "\tsum = [[0, 0, 0], [0, 0, 0]]\n",
        "\tfor j in range(0, 2):\n",
        "\t\tfor i in range(0, len(iris.data)):\n",
        "\t\t\tif j == 0:\n",
        "\t\t\t\tsum[j][a[i]] += 1\n",
        "\t\t\telse:\n",
        "\t\t\t\tsum[j][b[i]] += 1\n",
        "\tprint(\"Number of data points in the three cluster are (for In built KMeans Classifier): \", sum[0])\n",
        "\tprint(\"Number of data points in the three cluster are (for our KMeans Classifier): \", sum[1])"
      ],
      "execution_count": 0,
      "outputs": []
    },
    {
      "metadata": {
        "id": "Rv4XCx9Jsm2O",
        "colab_type": "code",
        "colab": {
          "base_uri": "https://localhost:8080/",
          "height": 51
        },
        "outputId": "dc4419bf-04d2-4122-879e-1001d6939a06"
      },
      "cell_type": "code",
      "source": [
        "# Calling In built KMeans Classifier to fit iris data.\n",
        "kmeans = KMeans(n_clusters = 3).fit(iris.data)\n",
        "print_count(kmeans.labels_, cluster_number)"
      ],
      "execution_count": 72,
      "outputs": [
        {
          "output_type": "stream",
          "text": [
            "Number of data points in the three cluster are (for In built KMeans Classifier):  [50, 62, 38]\n",
            "Number of data points in the three cluster are (for our KMeans Classifier):  [39, 61, 50]\n"
          ],
          "name": "stdout"
        }
      ]
    }
  ]
}