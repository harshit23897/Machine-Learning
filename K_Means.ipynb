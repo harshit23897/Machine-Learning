{
 "cells": [
  {
   "cell_type": "markdown",
   "metadata": {
    "colab_type": "text",
    "id": "M3tZoCIbq081"
   },
   "source": [
    "# K-Means Clustering for Iris Data Set.\n",
    "Taking K (number of clusters) = 3 for clustering data.\n",
    "\n",
    "Steps for K-Means Algorithm:\n",
    "\n",
    "\n",
    "1.   Randomly initialize cluster centers.\n",
    "2.   Find euclidean distance of each point from each cluster center and put that point in closest (according to euclidean distance) cluster.\n",
    "3.   Update cluster centers.\n",
    "4.   If cluster centers are not same as in previous iteration then repeat from step 2.\n",
    "5.   Else the current cluster centers are the final answer.\n",
    "\n"
   ]
  },
  {
   "cell_type": "code",
   "execution_count": 0,
   "metadata": {
    "colab": {},
    "colab_type": "code",
    "id": "VJ8dKioFqhZw"
   },
   "outputs": [],
   "source": [
    "import math \n",
    "import random\n",
    "from sklearn import datasets # For iris dataset.\n",
    "from sklearn.cluster import KMeans # For Trained KMeans Classifier to compare with our classifier."
   ]
  },
  {
   "cell_type": "code",
   "execution_count": 0,
   "metadata": {
    "colab": {},
    "colab_type": "code",
    "id": "jNHS6K4_rCTB"
   },
   "outputs": [],
   "source": [
    "# load iris dataset\n",
    "iris = datasets.load_iris()\n",
    "\n",
    "# Maximum number of iterations of algorithm.\n",
    "num_iterations = 1000"
   ]
  },
  {
   "cell_type": "code",
   "execution_count": 0,
   "metadata": {
    "colab": {},
    "colab_type": "code",
    "id": "6qF1VZxMr-Gq"
   },
   "outputs": [],
   "source": [
    "# Storing cluster centers.\n",
    "centers = []\n",
    "\n",
    "# Storing cluster data.\n",
    "cluster_number = [0] * len(iris.data)"
   ]
  },
  {
   "cell_type": "code",
   "execution_count": 0,
   "metadata": {
    "colab": {},
    "colab_type": "code",
    "id": "N-rEOXNksZsD"
   },
   "outputs": [],
   "source": [
    "# Randomly initializing centers of the clusters.\n",
    "def initialize():\n",
    "\tfor i in range(0, 3):\n",
    "    # Since index starts from 0 in python, hence generating a random index from 0 to 149\n",
    "\t\tindex = random.randint(0, 149)\n",
    "\t\tcenters.append(iris['data'][index])\t\t\t\n",
    "\n",
    "initialize()"
   ]
  },
  {
   "cell_type": "code",
   "execution_count": 0,
   "metadata": {
    "colab": {},
    "colab_type": "code",
    "id": "6X8KevhVsaOV"
   },
   "outputs": [],
   "source": [
    "# Finding euclidean distance between points.\n",
    "def euclidean_distance(data, centers):\n",
    "\treturn math.sqrt((data[0] - centers[0]) ** 2 \n",
    "                   + (data[1] - centers[1]) ** 2 \n",
    "                   + (data[2] - centers[2]) ** 2 \n",
    "                   + (data[3] - centers[3]) ** 2)"
   ]
  },
  {
   "cell_type": "code",
   "execution_count": 0,
   "metadata": {
    "colab": {},
    "colab_type": "code",
    "id": "0IEEYw7csfDM"
   },
   "outputs": [],
   "source": [
    "# Updating cluster centers to the average of all data points in that cluster.\n",
    "def update_cluster_centers():\n",
    "\tsum = [[0, 0, 0, 0], [0, 0, 0, 0], [0, 0, 0, 0]]\n",
    "\tcount = [0, 0, 0]\n",
    "\tfor index in range(0, len(iris.data)):\n",
    "\t\tfor j in range(0, 4):\n",
    "\t\t\tsum[cluster_number[index]][j] += iris['data'][index][j]\n",
    "\t\tcount[cluster_number[index]] += 1\n",
    "\tfor i in range(0, 3):\n",
    "\t\tfor j in range(0, 4):\n",
    "\t\t\tif count[i] != 0:\n",
    "\t\t\t\tsum[i][j] /= count[i]\n",
    "\tcenters.clear()\n",
    "\tfor i in range(0, 3):\n",
    "\t\tcenters.append(sum[i])"
   ]
  },
  {
   "cell_type": "code",
   "execution_count": 0,
   "metadata": {
    "colab": {},
    "colab_type": "code",
    "id": "4ROhuvnPsivt"
   },
   "outputs": [],
   "source": [
    "# Check if two cluster centers are equal.\n",
    "def check_equal(previous_centers, centers):\n",
    "\tfor i in range(0, 3):\n",
    "\t\tfor j in range(0, 4):\n",
    "\t\t\tif(centers[i][j] != previous_centers[i][j]):\n",
    "\t\t\t\treturn False\n",
    "\treturn True"
   ]
  },
  {
   "cell_type": "code",
   "execution_count": 0,
   "metadata": {
    "colab": {},
    "colab_type": "code",
    "id": "mSAAqzQjskD3"
   },
   "outputs": [],
   "source": [
    "# Two stopping conditions are used here - Number of iterations and whether cluster centers are changing between successive iterations.  \n",
    "for iteration in range(num_iterations):\n",
    "\tcluster_number = [0] * len(iris.data)\n",
    "\tprevious_centers = []\n",
    "\tprevious_centers = centers.copy()\n",
    "\tfor index in range(0, len(iris.data)):\n",
    "\t\tdistance = []\n",
    "\t\tfor i in range(0, len(centers)):\n",
    "\t\t\tdistance.append(euclidean_distance(iris['data'][index], centers[i]))\n",
    "\t\tcluster_number[index] = distance.index(min(distance))\n",
    "\tupdate_cluster_centers()\n",
    "\tif check_equal(previous_centers, centers):\n",
    "\t\tbreak"
   ]
  },
  {
   "cell_type": "code",
   "execution_count": 0,
   "metadata": {
    "colab": {},
    "colab_type": "code",
    "id": "Zc59960oslYt"
   },
   "outputs": [],
   "source": [
    "# Function to print number of data points in each cluster. \n",
    "def print_count(a, b):\n",
    "\tsum = [[0, 0, 0], [0, 0, 0]]\n",
    "\tfor j in range(0, 2):\n",
    "\t\tfor i in range(0, len(iris.data)):\n",
    "\t\t\tif j == 0:\n",
    "\t\t\t\tsum[j][a[i]] += 1\n",
    "\t\t\telse:\n",
    "\t\t\t\tsum[j][b[i]] += 1\n",
    "\tprint(\"Number of data points in the three cluster are (for In built KMeans Classifier): \", sum[0])\n",
    "\tprint(\"Number of data points in the three cluster are (for our KMeans Classifier): \", sum[1])"
   ]
  },
  {
   "cell_type": "code",
   "execution_count": 72,
   "metadata": {
    "colab": {
     "base_uri": "https://localhost:8080/",
     "height": 51
    },
    "colab_type": "code",
    "id": "Rv4XCx9Jsm2O",
    "outputId": "dc4419bf-04d2-4122-879e-1001d6939a06"
   },
   "outputs": [
    {
     "name": "stdout",
     "output_type": "stream",
     "text": [
      "Number of data points in the three cluster are (for In built KMeans Classifier):  [50, 62, 38]\n",
      "Number of data points in the three cluster are (for our KMeans Classifier):  [39, 61, 50]\n"
     ]
    }
   ],
   "source": [
    "# Calling In built KMeans Classifier to fit iris data.\n",
    "kmeans = KMeans(n_clusters = 3).fit(iris.data)\n",
    "print_count(kmeans.labels_, cluster_number)"
   ]
  }
 ],
 "metadata": {
  "colab": {
   "collapsed_sections": [],
   "name": "1_a.ipynb",
   "provenance": [],
   "version": "0.3.2"
  },
  "kernelspec": {
   "display_name": "Python 3",
   "language": "python",
   "name": "python3"
  },
  "language_info": {
   "codemirror_mode": {
    "name": "ipython",
    "version": 3
   },
   "file_extension": ".py",
   "mimetype": "text/x-python",
   "name": "python",
   "nbconvert_exporter": "python",
   "pygments_lexer": "ipython3",
   "version": "3.6.2"
  }
 },
 "nbformat": 4,
 "nbformat_minor": 1
}
