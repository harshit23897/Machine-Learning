{
 "cells": [
  {
   "cell_type": "code",
   "execution_count": 136,
   "metadata": {},
   "outputs": [
    {
     "name": "stdout",
     "output_type": "stream",
     "text": [
      "Actual weights are:  [[0.2]\n",
      " [0.7]\n",
      " [0.2]]\n",
      "Predicted weights are:  [[0.2]\n",
      " [0.7]\n",
      " [0.2]]\n"
     ]
    },
    {
     "data": {
      "image/png": "[encoded data removed]",
      "text/plain": [
       "<Figure size 432x288 with 1 Axes>"
      ]
     },
     "metadata": {},
     "output_type": "display_data"
    }
   ],
   "source": [
    "import numpy as np\n",
    "from operator import sub\n",
    "import matplotlib.pyplot as plt\n",
    "\n",
    "#---------------------- Initialization --------------------------\n",
    "# Initializing random input from (-0.5, 0.5)\n",
    "X = np.random.randn(20000) - 0.5\n",
    "num_iterations = 100\n",
    "mu = 0.07\n",
    "actual_weights = np.matrix([[0.2, 0.7, 0.2]])\n",
    "# Initializing random weights between (0, 1)\n",
    "predicted_weights = np.matrix(np.zeros((actual_weights.shape)))\n",
    "predicted_weights = predicted_weights.transpose()\n",
    "actual_weights = actual_weights.transpose()\n",
    "errors = []\n",
    "eta = 1092\n",
    "R_k_inverse = eta * np.identity(actual_weights.shape[0])\n",
    "\n",
    "#---------------------- RLS Algorithm ---------------------------\n",
    "for index in range(0, num_iterations):\n",
    "    x = np.matrix([X[i] for i in range(index, index + actual_weights.shape[0])])\n",
    "    x = x.transpose()\n",
    "    \n",
    "    actual_output = np.multiply(actual_weights, x)\n",
    "    predicted_output = np.multiply(predicted_weights, x)\n",
    "    error = actual_output - predicted_output\n",
    "    \n",
    "    errors.append(np.sum(error))\n",
    "    \n",
    "    Z_k = R_k_inverse * x\n",
    "    \n",
    "    q = x.transpose() * Z_k\n",
    "    \n",
    "    v = 1 / (1 + q)\n",
    "    \n",
    "    Z_k_cap = np.multiply(v,  Z_k)\n",
    "    predicted_weights = predicted_weights + np.multiply(error, Z_k_cap)\n",
    "    \n",
    "    R_k_inverse = R_k_inverse - Z_k_cap * Z_k_cap.transpose() \n",
    "\n",
    "plt.plot(errors)\n",
    "plt.xlabel('# iterations', fontsize=14, color='black')\n",
    "plt.ylabel('Error', fontsize=14, color='black')\n",
    "\n",
    "print(\"Actual weights are: \", actual_weights)\n",
    "print(\"Predicted weights are: \", predicted_weights)"
   ]
  },
  {
   "cell_type": "code",
   "execution_count": null,
   "metadata": {},
   "outputs": [],
   "source": []
  }
 ],
 "metadata": {
  "kernelspec": {
   "display_name": "Python 3",
   "language": "python",
   "name": "python3"
  },
  "language_info": {
   "codemirror_mode": {
    "name": "ipython",
    "version": 3
   },
   "file_extension": ".py",
   "mimetype": "text/x-python",
   "name": "python",
   "nbconvert_exporter": "python",
   "pygments_lexer": "ipython3",
   "version": "3.6.2"
  }
 },
 "nbformat": 4,
 "nbformat_minor": 2
}
