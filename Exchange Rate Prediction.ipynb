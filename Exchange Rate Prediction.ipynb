{
 "cells": [
  {
   "cell_type": "code",
   "execution_count": 74,
   "metadata": {},
   "outputs": [
    {
     "name": "stdout",
     "output_type": "stream",
     "text": [
      "1505 1204\n"
     ]
    },
    {
     "data": {
      "text/plain": [
       "Text(0,0.5,'Testing Error')"
      ]
     },
     "execution_count": 74,
     "metadata": {},
     "output_type": "execute_result"
    },
    {
     "data": {
      "image/png": "[encoded data removed]",
      "text/plain": [
       "<Figure size 432x288 with 2 Axes>"
      ]
     },
     "metadata": {},
     "output_type": "display_data"
    }
   ],
   "source": [
    "import csv\n",
    "import numpy as np\n",
    "from operator import add\n",
    "import matplotlib.pyplot as plt\n",
    "from collections import defaultdict\n",
    "\n",
    "filename = 'USD_INR_Historical_Data.csv'\n",
    "\n",
    "price = [] # each value in each column is appended to a list\n",
    "\n",
    "with open(filename) as f:\n",
    "    reader = csv.DictReader(f) # read rows into a dictionary format\n",
    "    for row in reader: # read a row as {column1: value1, column2: value2,...}\n",
    "        for (k,v) in row.items(): # go over each column name and value \n",
    "            if k == 'Price':\n",
    "                price.append(float(v)) # append the value into the appropriate list\n",
    "                                 # based on column name k\n",
    "\n",
    "def normalize():\n",
    "    mx = max(price)\n",
    "    for i in range(0, len(price)):\n",
    "        price[i] = price[i] / mx\n",
    "normalize()       \n",
    "\n",
    "training = []\n",
    "testing = []\n",
    "\n",
    "for idx in range(int(0.2 * len(price)), len(price)):\n",
    "    temp = []\n",
    "    temp.append(price[idx])\n",
    "    temp.append(np.mean(price[idx - int(0.2 * len(price)): idx]))\n",
    "    temp.append(np.var(price[idx - int(0.2 * len(price)): idx]))\n",
    "    \n",
    "    training.append(temp)\n",
    "    \n",
    "testing = training[:int(0.2 * len(training))]\n",
    "testing = training[int(0.2 * len(training)):]\n",
    "\n",
    "print(len(training), len(testing))\n",
    "               \n",
    "#---------------------- Initialization --------------------------\n",
    "mu = 0.07\n",
    "# Initializing random weights between (0, 1)\n",
    "predicted_weights = np.random.randn(3)\n",
    "errors = []\n",
    "\n",
    "# Training\n",
    "#---------------------- LMS Algorithm ---------------------------\n",
    "for index in range(0, len(training)-1):\n",
    "    x = training[index]\n",
    "    predicted_output = np.multiply(x, predicted_weights)\n",
    "    actual_output = training[index+1][0]\n",
    "    \n",
    "    d = np.sum(actual_output)\n",
    "    e = np.sum(predicted_output)    \n",
    "    \n",
    "    errors.append(abs(d - e) * abs(d - e))\n",
    "    \n",
    "    x = [2.0 * i * mu * (d - e) for i in x]\n",
    "    \n",
    "    predicted_weights = list( map(add, predicted_weights, x))\n",
    "\n",
    "plt.subplot(2, 1, 1)\n",
    "plt.plot(errors)\n",
    "plt.xlabel('# iterations', fontsize=14, color='black')\n",
    "plt.ylabel('Training Error', fontsize=14, color='black')  \n",
    "\n",
    "errors = []\n",
    "\n",
    "# Testing\n",
    "for index in range(0, len(testing)-1):\n",
    "    x = training[index]\n",
    "    predicted_output = np.multiply(x, predicted_weights)\n",
    "    actual_output = training[index+1][0]\n",
    "    \n",
    "    d = np.sum(actual_output)\n",
    "    e = np.sum(predicted_output)\n",
    "    \n",
    "    errors.append(abs(d - e) * abs(d - e))\n",
    "\n",
    "plt.subplot(2, 1, 2)\n",
    "plt.plot(errors)\n",
    "plt.xlabel('# iterations', fontsize=14, color='black')\n",
    "plt.ylabel('Testing Error', fontsize=14, color='black')     "
   ]
  },
  {
   "cell_type": "code",
   "execution_count": null,
   "metadata": {},
   "outputs": [],
   "source": []
  }
 ],
 "metadata": {
  "kernelspec": {
   "display_name": "Python 3",
   "language": "python",
   "name": "python3"
  },
  "language_info": {
   "codemirror_mode": {
    "name": "ipython",
    "version": 3
   },
   "file_extension": ".py",
   "mimetype": "text/x-python",
   "name": "python",
   "nbconvert_exporter": "python",
   "pygments_lexer": "ipython3",
   "version": "3.6.2"
  }
 },
 "nbformat": 4,
 "nbformat_minor": 2
}
