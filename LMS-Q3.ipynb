{
 "cells": [
  {
   "cell_type": "code",
   "execution_count": 77,
   "metadata": {},
   "outputs": [
    {
     "data": {
      "text/plain": [
       "[<matplotlib.lines.Line2D at 0x1138b13c8>]"
      ]
     },
     "execution_count": 77,
     "metadata": {},
     "output_type": "execute_result"
    },
    {
     "data": {
      "image/png": "[encoded data removed]",
      "text/plain": [
       "<Figure size 432x288 with 1 Axes>"
      ]
     },
     "metadata": {},
     "output_type": "display_data"
    }
   ],
   "source": [
    "import numpy as np\n",
    "from operator import add\n",
    "import matplotlib.pyplot as plt\n",
    "\n",
    "X = np.random.randn(2000) - 0.5\n",
    "num_iterations = 1000\n",
    "mu = 0.07\n",
    "actual_weights = [0.2, 0.7, 0.2]\n",
    "predicted_weights = np.random.randn(len(actual_weights))\n",
    "errors = []\n",
    "\n",
    "for index in range(0, num_iterations):\n",
    "    x = [X[i] for i in range(index, index + len(actual_weights))]\n",
    "    actual_output = np.multiply(x, actual_weights)\n",
    "    predicted_output = np.multiply(x, predicted_weights)\n",
    "    \n",
    "    d = np.sum(actual_output)\n",
    "    e = np.sum(predicted_output)\n",
    "    \n",
    "    errors.append(abs(d - e))\n",
    "    \n",
    "    x = [2.0 * i * mu * (d - e) for i in x]\n",
    "    \n",
    "    predicted_weights = list( map(add, predicted_weights, x))\n",
    "\n",
    "plt.plot(errors)"
   ]
  },
  {
   "cell_type": "code",
   "execution_count": 85,
   "metadata": {},
   "outputs": [
    {
     "data": {
      "text/plain": [
       "Text(0,0.5,'Error')"
      ]
     },
     "execution_count": 85,
     "metadata": {},
     "output_type": "execute_result"
    },
    {
     "data": {
      "image/png": "[encoded data removed]",
      "text/plain": [
       "<Figure size 432x288 with 1 Axes>"
      ]
     },
     "metadata": {},
     "output_type": "display_data"
    }
   ],
   "source": [
    "import numpy as np\n",
    "from operator import add\n",
    "import matplotlib.pyplot as plt\n",
    "\n",
    "X = np.random.randn(2000) - 0.5\n",
    "num_iterations = 1000\n",
    "mu = 0.07\n",
    "actual_weights = [0.2, 0.7, 0.2]\n",
    "predicted_weights = np.random.randn(len(actual_weights))\n",
    "errors = []\n",
    "\n",
    "for index in range(0, num_iterations):\n",
    "    x = [X[i] for i in range(index, index + len(actual_weights))]\n",
    "    actual_output = np.multiply(x, actual_weights)\n",
    "    predicted_output = np.multiply(x, predicted_weights)\n",
    "    \n",
    "    d = np.sum(actual_output)\n",
    "    e = np.sum(predicted_output)\n",
    "    \n",
    "    errors.append(abs(d - e))\n",
    "    \n",
    "    x = [2.0 * i * mu * (d - e) for i in x]\n",
    "    \n",
    "    predicted_weights = list( map(add, predicted_weights, x))\n",
    "\n",
    "plt.plot(errors)\n",
    "plt.xlabel('# iterations', fontsize=14, color='black')\n",
    "plt.ylabel('Error', fontsize=14, color='black')"
   ]
  }
 ],
 "metadata": {
  "kernelspec": {
   "display_name": "Python 3",
   "language": "python",
   "name": "python3"
  },
  "language_info": {
   "codemirror_mode": {
    "name": "ipython",
    "version": 3
   },
   "file_extension": ".py",
   "mimetype": "text/x-python",
   "name": "python",
   "nbconvert_exporter": "python",
   "pygments_lexer": "ipython3",
   "version": "3.6.2"
  }
 },
 "nbformat": 4,
 "nbformat_minor": 2
}
